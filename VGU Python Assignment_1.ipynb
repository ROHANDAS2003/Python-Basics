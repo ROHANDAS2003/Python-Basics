{
 "cells": [
  {
   "cell_type": "markdown",
   "id": "2a8e9505",
   "metadata": {},
   "source": [
    "## Question 1.\tPython program to add two numbers\n",
    "\n"
   ]
  },
  {
   "cell_type": "code",
   "execution_count": 5,
   "id": "94db056f",
   "metadata": {},
   "outputs": [
    {
     "name": "stdout",
     "output_type": "stream",
     "text": [
      "enter first number55\n",
      "enter second number22\n",
      "The sum of given numbers are:  77\n"
     ]
    }
   ],
   "source": [
    "a =int(input(\"enter first number: \"))\n",
    "b =int(input(\"enter second number: \"))\n",
    "\n",
    "print(\"The sum of given numbers are: \",a+b)"
   ]
  },
  {
   "cell_type": "markdown",
   "id": "04f077a5",
   "metadata": {},
   "source": [
    "## Question 2.Maximum of two numbers in Python\n"
   ]
  },
  {
   "cell_type": "code",
   "execution_count": 7,
   "id": "de8dcf82",
   "metadata": {},
   "outputs": [
    {
     "name": "stdout",
     "output_type": "stream",
     "text": [
      "55 is greater than  22\n"
     ]
    }
   ],
   "source": [
    "if(a>b):\n",
    "    print(a,\"is greater than \",b)\n",
    "elif(b>a):\n",
    "    print(b,\"is greater than \",a)\n",
    "else:\n",
    "    print(\"Both the numbers are equal.\")"
   ]
  },
  {
   "cell_type": "markdown",
   "id": "1efa765f",
   "metadata": {},
   "source": [
    "## Question 3.\tPython Program for factorial of a number\n"
   ]
  },
  {
   "cell_type": "code",
   "execution_count": 9,
   "id": "053d1d5c",
   "metadata": {},
   "outputs": [
    {
     "name": "stdout",
     "output_type": "stream",
     "text": [
      "Enter the number whose factorial is to find.7\n",
      "factorial of  1  is  5040\n"
     ]
    }
   ],
   "source": [
    "num = int(input(\"Enter the number whose factorial is to find: \"))\n",
    "\n",
    "if(num<0):\n",
    "    print(\"There are no factorial for negative numbers.\")\n",
    "elif(num==0):\n",
    "    print(\"1\")\n",
    "else:\n",
    "    factorial = 1\n",
    "    while(num>1):\n",
    "        factorial = factorial*num\n",
    "        num-=1\n",
    "    print(\"factorial of \",num,\" is \",factorial)\n",
    "    "
   ]
  },
  {
   "cell_type": "markdown",
   "id": "33404611",
   "metadata": {},
   "source": [
    "## 4.\tPython Program for simple interest\n"
   ]
  },
  {
   "cell_type": "code",
   "execution_count": 10,
   "id": "2594116c",
   "metadata": {},
   "outputs": [
    {
     "name": "stdout",
     "output_type": "stream",
     "text": [
      "Enter the principle amount: 10000\n",
      "Enter the rate of intrest without % sign: 7.5\n",
      "Enter the time period in years: 2.5\n",
      "The simple intrest will be:  1875.0\n"
     ]
    }
   ],
   "source": [
    "principle = int(input(\"Enter the principle amount: \"))\n",
    "rate = float(input(\"Enter the rate of intrest without % sign: \"))\n",
    "time = float(input(\"Enter the time period in years: \"))\n",
    "print(\"The intrest will be: \",(principle*rate*time)/100)"
   ]
  },
  {
   "cell_type": "markdown",
   "id": "d34f4a13",
   "metadata": {},
   "source": [
    "## 5.\tPython Program for compound interest\n"
   ]
  },
  {
   "cell_type": "code",
   "execution_count": 6,
   "id": "dcb67c1a",
   "metadata": {},
   "outputs": [
    {
     "name": "stdout",
     "output_type": "stream",
     "text": [
      "Is it monthly, quaterly, half yearly or anually: monthly\n",
      "Enter the principle amount: 10000\n",
      "Enter the rate of intrest without % sign: 7.5\n",
      "Enter the time period in years: 2.5\n",
      "The compounded intrest will be:  2055.27\n"
     ]
    }
   ],
   "source": [
    "number_of_times_compound = input(\"Is it monthly, quaterly, half yearly or anually: \").lower()\n",
    "principle = int(input(\"Enter the principle amount: \"))\n",
    "rate = float(input(\"Enter the rate of intrest without % sign: \"))\n",
    "time = float(input(\"Enter the time period in years: \"))\n",
    "\n",
    "if(\"month\" in number_of_times_compound):\n",
    "    print(\"The compounded intrest will be: \",\"{:.2f}\".format((principle*((1+(rate/1200))**(12*time)))-principle))\n",
    "    \n",
    "elif(\"quater\" in number_of_times_compound):\n",
    "    print(\"The compounded intrest will be: \",\"{:.2f}\".format((principle*((1+(rate/400))**(4*time)))-principle))\n",
    "    \n",
    "elif(\"half\" in number_of_times_compound):\n",
    "    print(\"The compounded intrest will be: \",\"{:.2f}\".format((principle*((1+(rate/200))**(2*time)))-principle))\n",
    "    \n",
    "elif(\"anual\" in number_of_times_compound):\n",
    "    print(\"The compounded intrest will be: \",\"{:.2f}\".format((principle*((1+(rate/100))**time))-principle))\n",
    "    "
   ]
  },
  {
   "cell_type": "markdown",
   "id": "f5bc28d2",
   "metadata": {},
   "source": [
    "## 6.\tPython Program to check Armstrong Number\n"
   ]
  },
  {
   "cell_type": "code",
   "execution_count": 8,
   "id": "c75e2e08",
   "metadata": {},
   "outputs": [
    {
     "name": "stdout",
     "output_type": "stream",
     "text": [
      "Enter a number1634\n",
      "1634  is a armstrong number\n"
     ]
    }
   ],
   "source": [
    "num = int(input(\"Enter a number: \"))\n",
    "power = len(str(num))\n",
    "temp = num\n",
    "total = 0\n",
    "\n",
    "while(temp>0):\n",
    "    digit = temp%10\n",
    "    total +=digit**power\n",
    "    temp //=10\n",
    "\n",
    "if(total == num):\n",
    "    print(num,\" is a armstrong number\")\n",
    "else:\n",
    "    print(num,\" is not a armstrong number\")"
   ]
  },
  {
   "cell_type": "markdown",
   "id": "d30c6f3c",
   "metadata": {},
   "source": [
    "## 7.\tPython Program for Program to find area of a circle\n"
   ]
  },
  {
   "cell_type": "code",
   "execution_count": 11,
   "id": "76c4ed03",
   "metadata": {},
   "outputs": [
    {
     "name": "stdout",
     "output_type": "stream",
     "text": [
      "Enter the value of radius: 5\n",
      "The area of circle is:  78.54  units\n"
     ]
    }
   ],
   "source": [
    "radius = int(input(\"Enter the value of radius: \"))\n",
    "pi = 3.14159265359\n",
    "\n",
    "print(\"The area of circle is: \",\"{:.2f}\".format(pi*(radius**2)),\"units\")"
   ]
  },
  {
   "cell_type": "markdown",
   "id": "1a8ead25",
   "metadata": {},
   "source": [
    "## 8.\tPython program to print all Prime numbers in an Interval\n"
   ]
  },
  {
   "cell_type": "code",
   "execution_count": 12,
   "id": "74e2ff11",
   "metadata": {},
   "outputs": [
    {
     "name": "stdout",
     "output_type": "stream",
     "text": [
      "Enter the starting range: 1\n",
      "Enter the ending range: 100\n",
      "Prime numbers between  1 - 100 are: \n",
      "2\n",
      "3\n",
      "5\n",
      "7\n",
      "11\n",
      "13\n",
      "17\n",
      "19\n",
      "23\n",
      "29\n",
      "31\n",
      "37\n",
      "41\n",
      "43\n",
      "47\n",
      "53\n",
      "59\n",
      "61\n",
      "67\n",
      "71\n",
      "73\n",
      "79\n",
      "83\n",
      "89\n",
      "97\n"
     ]
    }
   ],
   "source": [
    "start = int(input(\"Enter the starting range: \"))\n",
    "end = int(input(\"Enter the ending range: \"))\n",
    "\n",
    "print(\"Prime numbers between \",start,\"-\",end,\"are: \")\n",
    "for num in range(start, end+1):\n",
    "    if(num>1):\n",
    "        for i in range(2, num):\n",
    "            if(num%i == 0):\n",
    "                break\n",
    "        else:\n",
    "            print(num)\n"
   ]
  },
  {
   "cell_type": "markdown",
   "id": "c50e2117",
   "metadata": {},
   "source": [
    "## 9.\tPython program to check whether a number is Prime or not\n"
   ]
  },
  {
   "cell_type": "code",
   "execution_count": 16,
   "id": "8d36a3e1",
   "metadata": {},
   "outputs": [
    {
     "name": "stdout",
     "output_type": "stream",
     "text": [
      "Enter a number: 97\n",
      "97  is a prime number\n"
     ]
    }
   ],
   "source": [
    "num = int(input(\"Enter a number: \"))\n",
    "\n",
    "if(num>1):\n",
    "        for i in range(2, num):\n",
    "            if(num%i == 0):\n",
    "                print(num,\" is not a prime number\")\n",
    "                break\n",
    "        else:\n",
    "            print(num,\" is a prime number\")\n",
    "else:\n",
    "    print(num,\" is not a prime number\")\n",
    "    "
   ]
  },
  {
   "cell_type": "markdown",
   "id": "b9af7e39",
   "metadata": {},
   "source": [
    "## 10.\tPython Program for n-th Fibonacci number\n"
   ]
  },
  {
   "cell_type": "code",
   "execution_count": 31,
   "id": "5770733d",
   "metadata": {},
   "outputs": [
    {
     "name": "stdout",
     "output_type": "stream",
     "text": [
      "Enter the number whose fibonacci you want: 6\n",
      "Fibonacci of 6 is: 8\n"
     ]
    }
   ],
   "source": [
    "num = int(input(\"Enter the number whose fibonacci you want: \"))\n",
    "a = 0\n",
    "b = 1\n",
    "\n",
    "if num < 0:\n",
    "    print(\"Incorrect input\")\n",
    "    \n",
    "elif num == 0:\n",
    "    print(\"Fibonacci of 0 is:\",a)\n",
    "    \n",
    "elif num == 1:\n",
    "    print(\"Fibonacci of 1 is:\",b)\n",
    "    \n",
    "else:\n",
    "    for i in range(2, num+1):\n",
    "        c = a + b\n",
    "        a = b\n",
    "        b = c\n",
    "    print(\"Fibonacci of\",num,\"is:\",b)\n"
   ]
  },
  {
   "cell_type": "markdown",
   "id": "d5f9d672",
   "metadata": {},
   "source": [
    "## 11.\tPython Program for How to check if a given number is Fibonacci number?\n"
   ]
  },
  {
   "cell_type": "code",
   "execution_count": 37,
   "id": "a9090f85",
   "metadata": {},
   "outputs": [
    {
     "name": "stdout",
     "output_type": "stream",
     "text": [
      "Enter the number to check is it a fibonacci number: 37\n",
      "37 is a not Fibonacci Number \n"
     ]
    }
   ],
   "source": [
    "number = int(input(\"Enter the number to check is it a fibonacci number: \"))\n",
    "\n",
    "def perfect_square(num):\n",
    "    square_root = int(num**(0.5))\n",
    "    return square_root**2 == num\n",
    " \n",
    "def fibonacci(n):\n",
    "    return perfect_square(5*n*n + 4) or perfect_square(5*n*n - 4)\n",
    "\n",
    "if (fibonacci(number) == True):\n",
    "    print(number, \"is a Fibonacci Number\")\n",
    "else:\n",
    "    print(number, \"is a not Fibonacci Number \")\n"
   ]
  },
  {
   "cell_type": "markdown",
   "id": "c4673598",
   "metadata": {},
   "source": [
    "## 12.\tPython Program for n\\’th multiple of a number in Fibonacci Series\n"
   ]
  },
  {
   "cell_type": "code",
   "execution_count": 41,
   "id": "4d7960f0",
   "metadata": {},
   "outputs": [
    {
     "name": "stdout",
     "output_type": "stream",
     "text": [
      "Enter the number whose Nth multiple you want: 4\n",
      "Enter Nth number: 5\n",
      "Position of 5 th multiple of 4 in Fibonacci Series is 30\n"
     ]
    }
   ],
   "source": [
    "number = int(input(\"Enter the number whose Nth multiple you want: \"))\n",
    "multiple = int(input(\"Enter Nth number: \"))\n",
    "\n",
    "a = 0\n",
    "b = 1\n",
    "i =2;\n",
    "while(i!=0):\n",
    "    c = a + b;\n",
    "    a = b;\n",
    "    b = c;\n",
    " \n",
    "    if(b%number == 0):\n",
    "        print(\"Position of\",multiple,\"th multiple of\",number ,\"in Fibonacci Series is\",i*multiple)\n",
    "        break\n",
    "    i+=1\n"
   ]
  },
  {
   "cell_type": "markdown",
   "id": "118bb78a",
   "metadata": {},
   "source": [
    "## 13.\tProgram to print ASCII Value of a character\n"
   ]
  },
  {
   "cell_type": "code",
   "execution_count": 24,
   "id": "d8d0a89b",
   "metadata": {},
   "outputs": [
    {
     "name": "stdout",
     "output_type": "stream",
     "text": [
      "Enter the character whose ASCII value you want: R\n",
      "ASCII value of R  is: 82\n"
     ]
    }
   ],
   "source": [
    "character = input(\"Enter the character whose ASCII value you want: \")\n",
    "\n",
    "print(\"ASCII value of\",character,\"is:\", ord(character))\n"
   ]
  },
  {
   "cell_type": "markdown",
   "id": "f9780302",
   "metadata": {},
   "source": [
    "## 14.\tPython Program for Sum of squares of first n natural numbers\n"
   ]
  },
  {
   "cell_type": "code",
   "execution_count": 19,
   "id": "0ea949d1",
   "metadata": {},
   "outputs": [
    {
     "name": "stdout",
     "output_type": "stream",
     "text": [
      "Enter the Nth number: 10\n",
      "The sum of squares of first 10 natural numbers is:  385\n"
     ]
    }
   ],
   "source": [
    "num = int(input(\"Enter the Nth number: \"))\n",
    "total = 0\n",
    "\n",
    "for i in range(1, num+1):\n",
    "    total +=i**2\n",
    "\n",
    "print(\"The sum of squares of first\",num,\"natural numbers is:\",total)\n"
   ]
  },
  {
   "cell_type": "markdown",
   "id": "9b61fe88",
   "metadata": {},
   "source": [
    "## 15.\tPython Program for cube sum of first n natural numbers"
   ]
  },
  {
   "cell_type": "code",
   "execution_count": 21,
   "id": "47eb1556",
   "metadata": {},
   "outputs": [
    {
     "name": "stdout",
     "output_type": "stream",
     "text": [
      "Enter the Nth number: 50\n",
      "The sum of squares of first 50 natural numbers is: 1625625\n"
     ]
    }
   ],
   "source": [
    "num = int(input(\"Enter the Nth number: \"))\n",
    "total = 0\n",
    "\n",
    "for i in range(1, num+1):\n",
    "    total +=i**3\n",
    "\n",
    "print(\"The sum of squares of first\",num,\"natural numbers is:\",total)\n"
   ]
  }
 ],
 "metadata": {
  "kernelspec": {
   "display_name": "Python 3 (ipykernel)",
   "language": "python",
   "name": "python3"
  },
  "language_info": {
   "codemirror_mode": {
    "name": "ipython",
    "version": 3
   },
   "file_extension": ".py",
   "mimetype": "text/x-python",
   "name": "python",
   "nbconvert_exporter": "python",
   "pygments_lexer": "ipython3",
   "version": "3.9.12"
  }
 },
 "nbformat": 4,
 "nbformat_minor": 5
}
